{
 "cells": [
  {
   "attachments": {},
   "cell_type": "markdown",
   "id": "9ee3b51d-5f71-4f7c-820c-00f07cccc395",
   "metadata": {},
   "source": [
    "## 모바일 퍼즐 게임 A/B 테스트 결과 분석 \n",
    "\n",
    "이 AB 테스트는 모바일 퍼즐 게임 Cookie Cats의 유저가 게이트에 도달하는 시점을 30 레벨에서 40 레벨로 옮겼을 때, 유저들의 접속(retention)에 어떤 변화가 있는지를 추적한 데이터입니다. 30 라운드 이상 플레이한 유저들을 대상으로 데이터를 분석한 결과, 유저들의 접속과 게이트 레벨의 이동은 관련이 없다는 결론을 내릴 수 있었습니다. 다만, 유저들의 지속적인 접속을 위해서는 게이트의 위치가 아닌 초기 이탈을 줄이는 방안을 고안할 필요가 있어 보입니다.\n"
   ]
  },
  {
   "cell_type": "code",
   "execution_count": 1,
   "id": "4fa0c2de-1390-44ae-8bb5-83818b3bce77",
   "metadata": {},
   "outputs": [],
   "source": [
    "import pandas as pd\n",
    "\n",
    "df = pd.read_csv(\"./CookieCats/cookie_cats.csv\", encoding=\"utf-8\")"
   ]
  },
  {
   "cell_type": "code",
   "execution_count": 2,
   "id": "81dba438-4eda-4811-b8d1-b5739194fde0",
   "metadata": {},
   "outputs": [
    {
     "data": {
      "text/html": [
       "<div>\n",
       "<style scoped>\n",
       "    .dataframe tbody tr th:only-of-type {\n",
       "        vertical-align: middle;\n",
       "    }\n",
       "\n",
       "    .dataframe tbody tr th {\n",
       "        vertical-align: top;\n",
       "    }\n",
       "\n",
       "    .dataframe thead th {\n",
       "        text-align: right;\n",
       "    }\n",
       "</style>\n",
       "<table border=\"1\" class=\"dataframe\">\n",
       "  <thead>\n",
       "    <tr style=\"text-align: right;\">\n",
       "      <th></th>\n",
       "      <th>userid</th>\n",
       "      <th>version</th>\n",
       "      <th>sum_gamerounds</th>\n",
       "      <th>retention_1</th>\n",
       "      <th>retention_7</th>\n",
       "    </tr>\n",
       "  </thead>\n",
       "  <tbody>\n",
       "    <tr>\n",
       "      <th>0</th>\n",
       "      <td>116</td>\n",
       "      <td>gate_30</td>\n",
       "      <td>3</td>\n",
       "      <td>False</td>\n",
       "      <td>False</td>\n",
       "    </tr>\n",
       "    <tr>\n",
       "      <th>1</th>\n",
       "      <td>337</td>\n",
       "      <td>gate_30</td>\n",
       "      <td>38</td>\n",
       "      <td>True</td>\n",
       "      <td>False</td>\n",
       "    </tr>\n",
       "    <tr>\n",
       "      <th>2</th>\n",
       "      <td>377</td>\n",
       "      <td>gate_40</td>\n",
       "      <td>165</td>\n",
       "      <td>True</td>\n",
       "      <td>False</td>\n",
       "    </tr>\n",
       "    <tr>\n",
       "      <th>3</th>\n",
       "      <td>483</td>\n",
       "      <td>gate_40</td>\n",
       "      <td>1</td>\n",
       "      <td>False</td>\n",
       "      <td>False</td>\n",
       "    </tr>\n",
       "    <tr>\n",
       "      <th>4</th>\n",
       "      <td>488</td>\n",
       "      <td>gate_40</td>\n",
       "      <td>179</td>\n",
       "      <td>True</td>\n",
       "      <td>True</td>\n",
       "    </tr>\n",
       "    <tr>\n",
       "      <th>...</th>\n",
       "      <td>...</td>\n",
       "      <td>...</td>\n",
       "      <td>...</td>\n",
       "      <td>...</td>\n",
       "      <td>...</td>\n",
       "    </tr>\n",
       "    <tr>\n",
       "      <th>90184</th>\n",
       "      <td>9999441</td>\n",
       "      <td>gate_40</td>\n",
       "      <td>97</td>\n",
       "      <td>True</td>\n",
       "      <td>False</td>\n",
       "    </tr>\n",
       "    <tr>\n",
       "      <th>90185</th>\n",
       "      <td>9999479</td>\n",
       "      <td>gate_40</td>\n",
       "      <td>30</td>\n",
       "      <td>False</td>\n",
       "      <td>False</td>\n",
       "    </tr>\n",
       "    <tr>\n",
       "      <th>90186</th>\n",
       "      <td>9999710</td>\n",
       "      <td>gate_30</td>\n",
       "      <td>28</td>\n",
       "      <td>True</td>\n",
       "      <td>False</td>\n",
       "    </tr>\n",
       "    <tr>\n",
       "      <th>90187</th>\n",
       "      <td>9999768</td>\n",
       "      <td>gate_40</td>\n",
       "      <td>51</td>\n",
       "      <td>True</td>\n",
       "      <td>False</td>\n",
       "    </tr>\n",
       "    <tr>\n",
       "      <th>90188</th>\n",
       "      <td>9999861</td>\n",
       "      <td>gate_40</td>\n",
       "      <td>16</td>\n",
       "      <td>False</td>\n",
       "      <td>False</td>\n",
       "    </tr>\n",
       "  </tbody>\n",
       "</table>\n",
       "<p>90189 rows × 5 columns</p>\n",
       "</div>"
      ],
      "text/plain": [
       "        userid  version  sum_gamerounds  retention_1  retention_7\n",
       "0          116  gate_30               3        False        False\n",
       "1          337  gate_30              38         True        False\n",
       "2          377  gate_40             165         True        False\n",
       "3          483  gate_40               1        False        False\n",
       "4          488  gate_40             179         True         True\n",
       "...        ...      ...             ...          ...          ...\n",
       "90184  9999441  gate_40              97         True        False\n",
       "90185  9999479  gate_40              30        False        False\n",
       "90186  9999710  gate_30              28         True        False\n",
       "90187  9999768  gate_40              51         True        False\n",
       "90188  9999861  gate_40              16        False        False\n",
       "\n",
       "[90189 rows x 5 columns]"
      ]
     },
     "execution_count": 2,
     "metadata": {},
     "output_type": "execute_result"
    }
   ],
   "source": [
    "df"
   ]
  },
  {
   "cell_type": "markdown",
   "id": "9cf2ab01-c39d-4384-8a68-a87e777b632b",
   "metadata": {},
   "source": [
    "## 1. EDA와 전처리"
   ]
  },
  {
   "cell_type": "code",
   "execution_count": 3,
   "id": "0be2af77-6991-4b6c-a999-cc6bc1994ff1",
   "metadata": {},
   "outputs": [
    {
     "data": {
      "text/html": [
       "<div>\n",
       "<style scoped>\n",
       "    .dataframe tbody tr th:only-of-type {\n",
       "        vertical-align: middle;\n",
       "    }\n",
       "\n",
       "    .dataframe tbody tr th {\n",
       "        vertical-align: top;\n",
       "    }\n",
       "\n",
       "    .dataframe thead th {\n",
       "        text-align: right;\n",
       "    }\n",
       "</style>\n",
       "<table border=\"1\" class=\"dataframe\">\n",
       "  <thead>\n",
       "    <tr style=\"text-align: right;\">\n",
       "      <th></th>\n",
       "      <th>userid</th>\n",
       "      <th>sum_gamerounds</th>\n",
       "    </tr>\n",
       "  </thead>\n",
       "  <tbody>\n",
       "    <tr>\n",
       "      <th>count</th>\n",
       "      <td>9.018900e+04</td>\n",
       "      <td>90189.000000</td>\n",
       "    </tr>\n",
       "    <tr>\n",
       "      <th>mean</th>\n",
       "      <td>4.998412e+06</td>\n",
       "      <td>51.872457</td>\n",
       "    </tr>\n",
       "    <tr>\n",
       "      <th>std</th>\n",
       "      <td>2.883286e+06</td>\n",
       "      <td>195.050858</td>\n",
       "    </tr>\n",
       "    <tr>\n",
       "      <th>min</th>\n",
       "      <td>1.160000e+02</td>\n",
       "      <td>0.000000</td>\n",
       "    </tr>\n",
       "    <tr>\n",
       "      <th>25%</th>\n",
       "      <td>2.512230e+06</td>\n",
       "      <td>5.000000</td>\n",
       "    </tr>\n",
       "    <tr>\n",
       "      <th>50%</th>\n",
       "      <td>4.995815e+06</td>\n",
       "      <td>16.000000</td>\n",
       "    </tr>\n",
       "    <tr>\n",
       "      <th>75%</th>\n",
       "      <td>7.496452e+06</td>\n",
       "      <td>51.000000</td>\n",
       "    </tr>\n",
       "    <tr>\n",
       "      <th>max</th>\n",
       "      <td>9.999861e+06</td>\n",
       "      <td>49854.000000</td>\n",
       "    </tr>\n",
       "  </tbody>\n",
       "</table>\n",
       "</div>"
      ],
      "text/plain": [
       "             userid  sum_gamerounds\n",
       "count  9.018900e+04    90189.000000\n",
       "mean   4.998412e+06       51.872457\n",
       "std    2.883286e+06      195.050858\n",
       "min    1.160000e+02        0.000000\n",
       "25%    2.512230e+06        5.000000\n",
       "50%    4.995815e+06       16.000000\n",
       "75%    7.496452e+06       51.000000\n",
       "max    9.999861e+06    49854.000000"
      ]
     },
     "execution_count": 3,
     "metadata": {},
     "output_type": "execute_result"
    }
   ],
   "source": [
    "df.describe()"
   ]
  },
  {
   "cell_type": "code",
   "execution_count": 4,
   "id": "fe797ca2-6694-4718-97e6-50e138955478",
   "metadata": {
    "scrolled": true
   },
   "outputs": [
    {
     "data": {
      "text/html": [
       "<div>\n",
       "<style scoped>\n",
       "    .dataframe tbody tr th:only-of-type {\n",
       "        vertical-align: middle;\n",
       "    }\n",
       "\n",
       "    .dataframe tbody tr th {\n",
       "        vertical-align: top;\n",
       "    }\n",
       "\n",
       "    .dataframe thead th {\n",
       "        text-align: right;\n",
       "    }\n",
       "</style>\n",
       "<table border=\"1\" class=\"dataframe\">\n",
       "  <thead>\n",
       "    <tr style=\"text-align: right;\">\n",
       "      <th></th>\n",
       "      <th>userid</th>\n",
       "      <th>version</th>\n",
       "      <th>sum_gamerounds</th>\n",
       "      <th>retention_1</th>\n",
       "      <th>retention_7</th>\n",
       "    </tr>\n",
       "  </thead>\n",
       "  <tbody>\n",
       "    <tr>\n",
       "      <th>1</th>\n",
       "      <td>337</td>\n",
       "      <td>gate_30</td>\n",
       "      <td>38</td>\n",
       "      <td>True</td>\n",
       "      <td>False</td>\n",
       "    </tr>\n",
       "    <tr>\n",
       "      <th>2</th>\n",
       "      <td>377</td>\n",
       "      <td>gate_40</td>\n",
       "      <td>165</td>\n",
       "      <td>True</td>\n",
       "      <td>False</td>\n",
       "    </tr>\n",
       "    <tr>\n",
       "      <th>4</th>\n",
       "      <td>488</td>\n",
       "      <td>gate_40</td>\n",
       "      <td>179</td>\n",
       "      <td>True</td>\n",
       "      <td>True</td>\n",
       "    </tr>\n",
       "    <tr>\n",
       "      <th>5</th>\n",
       "      <td>540</td>\n",
       "      <td>gate_40</td>\n",
       "      <td>187</td>\n",
       "      <td>True</td>\n",
       "      <td>True</td>\n",
       "    </tr>\n",
       "    <tr>\n",
       "      <th>8</th>\n",
       "      <td>1574</td>\n",
       "      <td>gate_40</td>\n",
       "      <td>108</td>\n",
       "      <td>True</td>\n",
       "      <td>True</td>\n",
       "    </tr>\n",
       "    <tr>\n",
       "      <th>...</th>\n",
       "      <td>...</td>\n",
       "      <td>...</td>\n",
       "      <td>...</td>\n",
       "      <td>...</td>\n",
       "      <td>...</td>\n",
       "    </tr>\n",
       "    <tr>\n",
       "      <th>90177</th>\n",
       "      <td>9998376</td>\n",
       "      <td>gate_40</td>\n",
       "      <td>53</td>\n",
       "      <td>False</td>\n",
       "      <td>False</td>\n",
       "    </tr>\n",
       "    <tr>\n",
       "      <th>90178</th>\n",
       "      <td>9998555</td>\n",
       "      <td>gate_40</td>\n",
       "      <td>32</td>\n",
       "      <td>False</td>\n",
       "      <td>False</td>\n",
       "    </tr>\n",
       "    <tr>\n",
       "      <th>90184</th>\n",
       "      <td>9999441</td>\n",
       "      <td>gate_40</td>\n",
       "      <td>97</td>\n",
       "      <td>True</td>\n",
       "      <td>False</td>\n",
       "    </tr>\n",
       "    <tr>\n",
       "      <th>90185</th>\n",
       "      <td>9999479</td>\n",
       "      <td>gate_40</td>\n",
       "      <td>30</td>\n",
       "      <td>False</td>\n",
       "      <td>False</td>\n",
       "    </tr>\n",
       "    <tr>\n",
       "      <th>90187</th>\n",
       "      <td>9999768</td>\n",
       "      <td>gate_40</td>\n",
       "      <td>51</td>\n",
       "      <td>True</td>\n",
       "      <td>False</td>\n",
       "    </tr>\n",
       "  </tbody>\n",
       "</table>\n",
       "<p>33269 rows × 5 columns</p>\n",
       "</div>"
      ],
      "text/plain": [
       "        userid  version  sum_gamerounds  retention_1  retention_7\n",
       "1          337  gate_30              38         True        False\n",
       "2          377  gate_40             165         True        False\n",
       "4          488  gate_40             179         True         True\n",
       "5          540  gate_40             187         True         True\n",
       "8         1574  gate_40             108         True         True\n",
       "...        ...      ...             ...          ...          ...\n",
       "90177  9998376  gate_40              53        False        False\n",
       "90178  9998555  gate_40              32        False        False\n",
       "90184  9999441  gate_40              97         True        False\n",
       "90185  9999479  gate_40              30        False        False\n",
       "90187  9999768  gate_40              51         True        False\n",
       "\n",
       "[33269 rows x 5 columns]"
      ]
     },
     "execution_count": 4,
     "metadata": {},
     "output_type": "execute_result"
    }
   ],
   "source": [
    "# 중앙값이 16라운드까지밖에 진행을 안 했네 -> 30라운드 이상 진행한 플레이어는 몇명이지? -> 총 33269명\n",
    "df[df[\"sum_gamerounds\"] >= 30]"
   ]
  },
  {
   "cell_type": "code",
   "execution_count": 5,
   "id": "10a83d11-221a-404e-927e-0ea914f380eb",
   "metadata": {},
   "outputs": [
    {
     "data": {
      "text/html": [
       "<div>\n",
       "<style scoped>\n",
       "    .dataframe tbody tr th:only-of-type {\n",
       "        vertical-align: middle;\n",
       "    }\n",
       "\n",
       "    .dataframe tbody tr th {\n",
       "        vertical-align: top;\n",
       "    }\n",
       "\n",
       "    .dataframe thead th {\n",
       "        text-align: right;\n",
       "    }\n",
       "</style>\n",
       "<table border=\"1\" class=\"dataframe\">\n",
       "  <thead>\n",
       "    <tr style=\"text-align: right;\">\n",
       "      <th></th>\n",
       "      <th>index</th>\n",
       "      <th>userid</th>\n",
       "      <th>version</th>\n",
       "      <th>sum_gamerounds</th>\n",
       "      <th>retention_1</th>\n",
       "      <th>retention_7</th>\n",
       "    </tr>\n",
       "  </thead>\n",
       "  <tbody>\n",
       "    <tr>\n",
       "      <th>0</th>\n",
       "      <td>1</td>\n",
       "      <td>337</td>\n",
       "      <td>gate_30</td>\n",
       "      <td>38</td>\n",
       "      <td>True</td>\n",
       "      <td>False</td>\n",
       "    </tr>\n",
       "    <tr>\n",
       "      <th>1</th>\n",
       "      <td>2</td>\n",
       "      <td>377</td>\n",
       "      <td>gate_40</td>\n",
       "      <td>165</td>\n",
       "      <td>True</td>\n",
       "      <td>False</td>\n",
       "    </tr>\n",
       "    <tr>\n",
       "      <th>2</th>\n",
       "      <td>4</td>\n",
       "      <td>488</td>\n",
       "      <td>gate_40</td>\n",
       "      <td>179</td>\n",
       "      <td>True</td>\n",
       "      <td>True</td>\n",
       "    </tr>\n",
       "    <tr>\n",
       "      <th>3</th>\n",
       "      <td>5</td>\n",
       "      <td>540</td>\n",
       "      <td>gate_40</td>\n",
       "      <td>187</td>\n",
       "      <td>True</td>\n",
       "      <td>True</td>\n",
       "    </tr>\n",
       "    <tr>\n",
       "      <th>4</th>\n",
       "      <td>8</td>\n",
       "      <td>1574</td>\n",
       "      <td>gate_40</td>\n",
       "      <td>108</td>\n",
       "      <td>True</td>\n",
       "      <td>True</td>\n",
       "    </tr>\n",
       "    <tr>\n",
       "      <th>...</th>\n",
       "      <td>...</td>\n",
       "      <td>...</td>\n",
       "      <td>...</td>\n",
       "      <td>...</td>\n",
       "      <td>...</td>\n",
       "      <td>...</td>\n",
       "    </tr>\n",
       "    <tr>\n",
       "      <th>33264</th>\n",
       "      <td>90177</td>\n",
       "      <td>9998376</td>\n",
       "      <td>gate_40</td>\n",
       "      <td>53</td>\n",
       "      <td>False</td>\n",
       "      <td>False</td>\n",
       "    </tr>\n",
       "    <tr>\n",
       "      <th>33265</th>\n",
       "      <td>90178</td>\n",
       "      <td>9998555</td>\n",
       "      <td>gate_40</td>\n",
       "      <td>32</td>\n",
       "      <td>False</td>\n",
       "      <td>False</td>\n",
       "    </tr>\n",
       "    <tr>\n",
       "      <th>33266</th>\n",
       "      <td>90184</td>\n",
       "      <td>9999441</td>\n",
       "      <td>gate_40</td>\n",
       "      <td>97</td>\n",
       "      <td>True</td>\n",
       "      <td>False</td>\n",
       "    </tr>\n",
       "    <tr>\n",
       "      <th>33267</th>\n",
       "      <td>90185</td>\n",
       "      <td>9999479</td>\n",
       "      <td>gate_40</td>\n",
       "      <td>30</td>\n",
       "      <td>False</td>\n",
       "      <td>False</td>\n",
       "    </tr>\n",
       "    <tr>\n",
       "      <th>33268</th>\n",
       "      <td>90187</td>\n",
       "      <td>9999768</td>\n",
       "      <td>gate_40</td>\n",
       "      <td>51</td>\n",
       "      <td>True</td>\n",
       "      <td>False</td>\n",
       "    </tr>\n",
       "  </tbody>\n",
       "</table>\n",
       "<p>33269 rows × 6 columns</p>\n",
       "</div>"
      ],
      "text/plain": [
       "       index   userid  version  sum_gamerounds  retention_1  retention_7\n",
       "0          1      337  gate_30              38         True        False\n",
       "1          2      377  gate_40             165         True        False\n",
       "2          4      488  gate_40             179         True         True\n",
       "3          5      540  gate_40             187         True         True\n",
       "4          8     1574  gate_40             108         True         True\n",
       "...      ...      ...      ...             ...          ...          ...\n",
       "33264  90177  9998376  gate_40              53        False        False\n",
       "33265  90178  9998555  gate_40              32        False        False\n",
       "33266  90184  9999441  gate_40              97         True        False\n",
       "33267  90185  9999479  gate_40              30        False        False\n",
       "33268  90187  9999768  gate_40              51         True        False\n",
       "\n",
       "[33269 rows x 6 columns]"
      ]
     },
     "execution_count": 5,
     "metadata": {},
     "output_type": "execute_result"
    }
   ],
   "source": [
    "# 33269명도 충분한 숫자니까 그냥 나머지는 제외시키자.\n",
    "df = df[df[\"sum_gamerounds\"] >= 30]\n",
    "df.reset_index()"
   ]
  },
  {
   "cell_type": "code",
   "execution_count": 6,
   "id": "20327b6d-2efd-4913-8d7a-2cfa5eaf1bb3",
   "metadata": {},
   "outputs": [
    {
     "data": {
      "text/plain": [
       "<Axes: >"
      ]
     },
     "execution_count": 6,
     "metadata": {},
     "output_type": "execute_result"
    },
    {
     "data": {
      "image/png": "[encoded data removed]",
      "text/plain": [
       "<Figure size 640x480 with 1 Axes>"
      ]
     },
     "metadata": {},
     "output_type": "display_data"
    }
   ],
   "source": [
    "# sum_gamerounds의 박스 플랏 -> 눈에 띄는 outlier가 있군!\n",
    "import matplotlib as plt\n",
    "\n",
    "df[\"sum_gamerounds\"].plot(\n",
    "    kind=\"box\"\n",
    ")"
   ]
  },
  {
   "cell_type": "code",
   "execution_count": 7,
   "id": "c71e9586-61c4-4b0c-987e-6c4f11099a28",
   "metadata": {},
   "outputs": [
    {
     "data": {
      "text/html": [
       "<div>\n",
       "<style scoped>\n",
       "    .dataframe tbody tr th:only-of-type {\n",
       "        vertical-align: middle;\n",
       "    }\n",
       "\n",
       "    .dataframe tbody tr th {\n",
       "        vertical-align: top;\n",
       "    }\n",
       "\n",
       "    .dataframe thead th {\n",
       "        text-align: right;\n",
       "    }\n",
       "</style>\n",
       "<table border=\"1\" class=\"dataframe\">\n",
       "  <thead>\n",
       "    <tr style=\"text-align: right;\">\n",
       "      <th></th>\n",
       "      <th>userid</th>\n",
       "      <th>version</th>\n",
       "      <th>sum_gamerounds</th>\n",
       "      <th>retention_1</th>\n",
       "      <th>retention_7</th>\n",
       "    </tr>\n",
       "  </thead>\n",
       "  <tbody>\n",
       "    <tr>\n",
       "      <th>57702</th>\n",
       "      <td>6390605</td>\n",
       "      <td>gate_30</td>\n",
       "      <td>49854</td>\n",
       "      <td>False</td>\n",
       "      <td>True</td>\n",
       "    </tr>\n",
       "    <tr>\n",
       "      <th>7912</th>\n",
       "      <td>871500</td>\n",
       "      <td>gate_30</td>\n",
       "      <td>2961</td>\n",
       "      <td>True</td>\n",
       "      <td>True</td>\n",
       "    </tr>\n",
       "    <tr>\n",
       "      <th>29417</th>\n",
       "      <td>3271615</td>\n",
       "      <td>gate_40</td>\n",
       "      <td>2640</td>\n",
       "      <td>True</td>\n",
       "      <td>False</td>\n",
       "    </tr>\n",
       "    <tr>\n",
       "      <th>43671</th>\n",
       "      <td>4832608</td>\n",
       "      <td>gate_30</td>\n",
       "      <td>2438</td>\n",
       "      <td>True</td>\n",
       "      <td>True</td>\n",
       "    </tr>\n",
       "    <tr>\n",
       "      <th>48188</th>\n",
       "      <td>5346171</td>\n",
       "      <td>gate_40</td>\n",
       "      <td>2294</td>\n",
       "      <td>True</td>\n",
       "      <td>True</td>\n",
       "    </tr>\n",
       "    <tr>\n",
       "      <th>46344</th>\n",
       "      <td>5133952</td>\n",
       "      <td>gate_30</td>\n",
       "      <td>2251</td>\n",
       "      <td>True</td>\n",
       "      <td>True</td>\n",
       "    </tr>\n",
       "    <tr>\n",
       "      <th>87007</th>\n",
       "      <td>9640085</td>\n",
       "      <td>gate_30</td>\n",
       "      <td>2156</td>\n",
       "      <td>True</td>\n",
       "      <td>True</td>\n",
       "    </tr>\n",
       "    <tr>\n",
       "      <th>36933</th>\n",
       "      <td>4090246</td>\n",
       "      <td>gate_40</td>\n",
       "      <td>2124</td>\n",
       "      <td>True</td>\n",
       "      <td>True</td>\n",
       "    </tr>\n",
       "    <tr>\n",
       "      <th>88328</th>\n",
       "      <td>9791599</td>\n",
       "      <td>gate_40</td>\n",
       "      <td>2063</td>\n",
       "      <td>True</td>\n",
       "      <td>True</td>\n",
       "    </tr>\n",
       "    <tr>\n",
       "      <th>6536</th>\n",
       "      <td>725080</td>\n",
       "      <td>gate_40</td>\n",
       "      <td>2015</td>\n",
       "      <td>True</td>\n",
       "      <td>True</td>\n",
       "    </tr>\n",
       "  </tbody>\n",
       "</table>\n",
       "</div>"
      ],
      "text/plain": [
       "        userid  version  sum_gamerounds  retention_1  retention_7\n",
       "57702  6390605  gate_30           49854        False         True\n",
       "7912    871500  gate_30            2961         True         True\n",
       "29417  3271615  gate_40            2640         True        False\n",
       "43671  4832608  gate_30            2438         True         True\n",
       "48188  5346171  gate_40            2294         True         True\n",
       "46344  5133952  gate_30            2251         True         True\n",
       "87007  9640085  gate_30            2156         True         True\n",
       "36933  4090246  gate_40            2124         True         True\n",
       "88328  9791599  gate_40            2063         True         True\n",
       "6536    725080  gate_40            2015         True         True"
      ]
     },
     "execution_count": 7,
     "metadata": {},
     "output_type": "execute_result"
    }
   ],
   "source": [
    "# 4만회나 플레이했다고? 상위 10명을 살펴보자 -> 역시 4만회 저 유저만 이상하다\n",
    "df.sort_values(\n",
    "    by=[\"sum_gamerounds\"],\n",
    "    ascending = False\n",
    ").iloc[:10]"
   ]
  },
  {
   "cell_type": "code",
   "execution_count": 8,
   "id": "fa09c620-d984-4cf3-813e-136b8a46eb10",
   "metadata": {},
   "outputs": [],
   "source": [
    "# 아웃라이어 제거\n",
    "df = df[df[\"sum_gamerounds\"] < 40000]"
   ]
  },
  {
   "cell_type": "code",
   "execution_count": 9,
   "id": "36f7b2c0-7ae8-413b-bc90-b3f10a2e1904",
   "metadata": {},
   "outputs": [
    {
     "data": {
      "text/html": [
       "<div>\n",
       "<style scoped>\n",
       "    .dataframe tbody tr th:only-of-type {\n",
       "        vertical-align: middle;\n",
       "    }\n",
       "\n",
       "    .dataframe tbody tr th {\n",
       "        vertical-align: top;\n",
       "    }\n",
       "\n",
       "    .dataframe thead th {\n",
       "        text-align: right;\n",
       "    }\n",
       "</style>\n",
       "<table border=\"1\" class=\"dataframe\">\n",
       "  <thead>\n",
       "    <tr style=\"text-align: right;\">\n",
       "      <th></th>\n",
       "      <th>userid</th>\n",
       "      <th>sum_gamerounds</th>\n",
       "    </tr>\n",
       "  </thead>\n",
       "  <tbody>\n",
       "    <tr>\n",
       "      <th>count</th>\n",
       "      <td>3.326800e+04</td>\n",
       "      <td>33268.000000</td>\n",
       "    </tr>\n",
       "    <tr>\n",
       "      <th>mean</th>\n",
       "      <td>5.002768e+06</td>\n",
       "      <td>123.278075</td>\n",
       "    </tr>\n",
       "    <tr>\n",
       "      <th>std</th>\n",
       "      <td>2.878313e+06</td>\n",
       "      <td>142.375428</td>\n",
       "    </tr>\n",
       "    <tr>\n",
       "      <th>min</th>\n",
       "      <td>3.370000e+02</td>\n",
       "      <td>30.000000</td>\n",
       "    </tr>\n",
       "    <tr>\n",
       "      <th>25%</th>\n",
       "      <td>2.524847e+06</td>\n",
       "      <td>45.000000</td>\n",
       "    </tr>\n",
       "    <tr>\n",
       "      <th>50%</th>\n",
       "      <td>4.984793e+06</td>\n",
       "      <td>73.000000</td>\n",
       "    </tr>\n",
       "    <tr>\n",
       "      <th>75%</th>\n",
       "      <td>7.489148e+06</td>\n",
       "      <td>144.000000</td>\n",
       "    </tr>\n",
       "    <tr>\n",
       "      <th>max</th>\n",
       "      <td>9.999768e+06</td>\n",
       "      <td>2961.000000</td>\n",
       "    </tr>\n",
       "  </tbody>\n",
       "</table>\n",
       "</div>"
      ],
      "text/plain": [
       "             userid  sum_gamerounds\n",
       "count  3.326800e+04    33268.000000\n",
       "mean   5.002768e+06      123.278075\n",
       "std    2.878313e+06      142.375428\n",
       "min    3.370000e+02       30.000000\n",
       "25%    2.524847e+06       45.000000\n",
       "50%    4.984793e+06       73.000000\n",
       "75%    7.489148e+06      144.000000\n",
       "max    9.999768e+06     2961.000000"
      ]
     },
     "execution_count": 9,
     "metadata": {},
     "output_type": "execute_result"
    }
   ],
   "source": [
    "# 통계값을 보니 더이상의 아웃라이어 제거는 안 해도 될 것 같다\n",
    "df.describe()"
   ]
  },
  {
   "cell_type": "code",
   "execution_count": 10,
   "id": "68565bf9-5dff-42b1-93fc-8364aa37f7f1",
   "metadata": {},
   "outputs": [
    {
     "name": "stdout",
     "output_type": "stream",
     "text": [
      "GATE30 16655\n",
      "GATE40 16613\n"
     ]
    }
   ],
   "source": [
    "# 최종적으로 사용하는 데이터 -> 비교적 균등하게 GATE30과 GATE40에 분포해 있군!\n",
    "print(\"GATE30\", len(df[df[\"version\"]==\"gate_30\"]))\n",
    "print(\"GATE40\", len(df[df[\"version\"]==\"gate_40\"]))"
   ]
  },
  {
   "cell_type": "code",
   "execution_count": 11,
   "id": "f9a2942d-0974-453f-b375-bef921b538fd",
   "metadata": {},
   "outputs": [
    {
     "data": {
      "text/plain": [
       "<Axes: ylabel='Frequency'>"
      ]
     },
     "execution_count": 11,
     "metadata": {},
     "output_type": "execute_result"
    },
    {
     "data": {
      "image/png": "[encoded data removed]",
      "text/plain": [
       "<Figure size 640x480 with 1 Axes>"
      ]
     },
     "metadata": {},
     "output_type": "display_data"
    }
   ],
   "source": [
    "import numpy as np\n",
    "\n",
    "df[\"sum_gamerounds\"].plot(\n",
    "    kind=\"hist\",\n",
    "    bins=np.arange(0, 1000)\n",
    ")"
   ]
  },
  {
   "cell_type": "code",
   "execution_count": 12,
   "id": "365fd9f7-1a5d-4259-9c48-4bc2af6f96b5",
   "metadata": {},
   "outputs": [
    {
     "data": {
      "text/plain": [
       "115"
      ]
     },
     "execution_count": 12,
     "metadata": {},
     "output_type": "execute_result"
    }
   ],
   "source": [
    "# 1000번 이상의 플레이를 한 사람들은 총 115명\n",
    "len(df[df[\"sum_gamerounds\"]>1000])"
   ]
  },
  {
   "cell_type": "markdown",
   "id": "6fb756a9-894b-43f8-a1ba-0c6d7cda54f9",
   "metadata": {},
   "source": [
    "## 2. gate_30 그룹과 gate_40그룹의 플레이 라운드 수의 평균에 대한 t검정\n",
    "* 두 집단의 sum_gamerounds 값에 대한 등분산 검정을 한 후,\n",
    "* two sampled t-test를 시행하겠습니다."
   ]
  },
  {
   "cell_type": "markdown",
   "id": "9a86c809-fbda-4154-aaea-0c5a00311333",
   "metadata": {},
   "source": [
    "### 1단계 - 가설 설정\n",
    "\n",
    "Ho: gate_30 집단과 gate_40 집단의 플레이 라운드 수의 평균의 차이는 없을 것이다.</br>\n",
    "H1: gate_30 집단과 gate_40 집단의 플레이 라운드 수의 평균의 차이가 있을 것이다.</br>\n",
    "유의수준 : .05"
   ]
  },
  {
   "cell_type": "markdown",
   "id": "b31a2f29-e820-4a10-8de3-e5dc80dc3e44",
   "metadata": {},
   "source": [
    "$$H_{0}: \\mu_{1}-\\mu_{2}=0$$\n",
    "$$H_{a}: \\mu_{1}-\\mu_{2}\\neq0$$"
   ]
  },
  {
   "cell_type": "markdown",
   "id": "27f2581b-a212-4449-b671-c39d58986676",
   "metadata": {},
   "source": [
    "### 2단계 - 등분산 검정(levene)\n",
    "p-value가 유의수준 .05 보다 높으므로 두 집단은 등분산 가정을 충족합니다."
   ]
  },
  {
   "cell_type": "code",
   "execution_count": 13,
   "id": "60c0c688-3faa-409d-865e-29061cdc53c6",
   "metadata": {},
   "outputs": [
    {
     "data": {
      "text/plain": [
       "LeveneResult(statistic=0.1049301583062975, pvalue=0.7459936359136907)"
      ]
     },
     "execution_count": 13,
     "metadata": {},
     "output_type": "execute_result"
    }
   ],
   "source": [
    "from scipy import stats\n",
    "\n",
    "rounds_30 = df[df[\"version\"] == \"gate_30\"][\"sum_gamerounds\"]\n",
    "rounds_40 = df[df[\"version\"] == \"gate_40\"][\"sum_gamerounds\"]\n",
    "\n",
    "stats.levene(rounds_30, rounds_40)"
   ]
  },
  {
   "cell_type": "markdown",
   "id": "693eb495-9d11-4e6c-a71d-a8f50746e667",
   "metadata": {},
   "source": [
    "### 3단계 - t검정 수행\n",
    "two sampled t-test 결과, p-value가 유의수준 .05보다 높으므로 영가설을 채택합니다.\n",
    "즉, gate_30 그룹의 플레이 라운드 평균과 gate_40 그룹의 플레이 라운드 평균의 차이는 통계적으로 유의하지 않습니다."
   ]
  },
  {
   "cell_type": "code",
   "execution_count": 14,
   "id": "6f0065e4-87e2-4c3b-8c89-0339332ce17e",
   "metadata": {},
   "outputs": [
    {
     "data": {
      "text/plain": [
       "TtestResult(statistic=-1.5205865059389807, pvalue=0.12837313948068096, df=33266.0)"
      ]
     },
     "execution_count": 14,
     "metadata": {},
     "output_type": "execute_result"
    }
   ],
   "source": [
    "stats.ttest_ind(\n",
    "    a=rounds_30, \n",
    "    b=rounds_40,\n",
    "    alternative=\"two-sided\",\n",
    "    equal_var=True\n",
    ")"
   ]
  },
  {
   "cell_type": "markdown",
   "id": "0fd72121-21b8-4fb2-8cee-f2cb2ec60d0e",
   "metadata": {},
   "source": [
    "### 4단계 - 결론 기술\n",
    "유의수준 .05에서 gate_30 그룹의 플레이 라운드 수의 평균과 gate_40 그룹의 플레이 라운드 수의 평균에는 차이가 없습니다."
   ]
  },
  {
   "cell_type": "markdown",
   "id": "4fe8f3b5-6ceb-465d-a3c6-ff4e37997642",
   "metadata": {},
   "source": [
    "## 3. version과 retention_1의 독립 여부 (카이 제곱 검정)"
   ]
  },
  {
   "cell_type": "markdown",
   "id": "b93250eb-756d-4ec2-bac9-57d458139b3d",
   "metadata": {},
   "source": [
    "### 1단계 - 가설 설정\n",
    "Ho: version(30/40)과 1일차 retention 여부는 서로 독립관계다.</br>\n",
    "H1: version(30/40)과 1일차 retention 여부는 서로 독립관계가 아니다(서로 종속관계다).</br>\n",
    "유의수준 : .05"
   ]
  },
  {
   "cell_type": "markdown",
   "id": "db93ec09-cacc-45cc-ba67-cc48eeb3fdf1",
   "metadata": {},
   "source": [
    "### 2단계 - 분할표 작성\n",
    "표만 봐도 둘은 독립관계인 것 같습니다!"
   ]
  },
  {
   "cell_type": "code",
   "execution_count": 15,
   "id": "a7007749-e331-46be-b221-c007f296d8b6",
   "metadata": {},
   "outputs": [
    {
     "data": {
      "text/html": [
       "<div>\n",
       "<style scoped>\n",
       "    .dataframe tbody tr th:only-of-type {\n",
       "        vertical-align: middle;\n",
       "    }\n",
       "\n",
       "    .dataframe tbody tr th {\n",
       "        vertical-align: top;\n",
       "    }\n",
       "\n",
       "    .dataframe thead th {\n",
       "        text-align: right;\n",
       "    }\n",
       "</style>\n",
       "<table border=\"1\" class=\"dataframe\">\n",
       "  <thead>\n",
       "    <tr style=\"text-align: right;\">\n",
       "      <th>retention_1</th>\n",
       "      <th>False</th>\n",
       "      <th>True</th>\n",
       "    </tr>\n",
       "    <tr>\n",
       "      <th>version</th>\n",
       "      <th></th>\n",
       "      <th></th>\n",
       "    </tr>\n",
       "  </thead>\n",
       "  <tbody>\n",
       "    <tr>\n",
       "      <th>gate_30</th>\n",
       "      <td>3314</td>\n",
       "      <td>13341</td>\n",
       "    </tr>\n",
       "    <tr>\n",
       "      <th>gate_40</th>\n",
       "      <td>3292</td>\n",
       "      <td>13321</td>\n",
       "    </tr>\n",
       "  </tbody>\n",
       "</table>\n",
       "</div>"
      ],
      "text/plain": [
       "retention_1  False  True \n",
       "version                  \n",
       "gate_30       3314  13341\n",
       "gate_40       3292  13321"
      ]
     },
     "execution_count": 15,
     "metadata": {},
     "output_type": "execute_result"
    }
   ],
   "source": [
    "retention1_table = pd.crosstab(df[\"version\"], df[\"retention_1\"])\n",
    "retention1_table"
   ]
  },
  {
   "cell_type": "markdown",
   "id": "6c067a5c-ad54-461d-a7cf-c82d7c7a9e41",
   "metadata": {},
   "source": [
    "### 3단계 - 카이 제곱 검정 시행"
   ]
  },
  {
   "cell_type": "code",
   "execution_count": 16,
   "id": "27caed18-e232-4c96-b6d9-7472ec96b8de",
   "metadata": {},
   "outputs": [
    {
     "data": {
      "text/plain": [
       "Chi2ContingencyResult(statistic=0.03027400911232281, pvalue=0.8618699583784126, dof=1, expected_freq=array([[ 3307.16995311, 13347.83004689],\n",
       "       [ 3298.83004689, 13314.16995311]]))"
      ]
     },
     "execution_count": 16,
     "metadata": {},
     "output_type": "execute_result"
    }
   ],
   "source": [
    "from scipy.stats import chi2_contingency\n",
    "\n",
    "chi2_contingency(retention1_table)"
   ]
  },
  {
   "cell_type": "markdown",
   "id": "e289f50b-ddff-4081-b85e-38a6fffacca2",
   "metadata": {},
   "source": [
    "### 4단계 - 결론 기술\n",
    "p-value가 유의수준 .05보다 크기 때문에 영가설을 채택합니다.\n",
    "즉, version(30/40)과 1일차 retention 여부는 서로 독립관계다. "
   ]
  },
  {
   "cell_type": "markdown",
   "id": "6910eab3-4f9c-463b-8c87-1ddc34a49be1",
   "metadata": {},
   "source": [
    "## 4. version과 retention_7의 독립 여부 (카이 제곱 검정)"
   ]
  },
  {
   "cell_type": "markdown",
   "id": "34fbb639-c82b-4008-864c-ac3a6f8bb0ed",
   "metadata": {},
   "source": [
    "### 1단계 - 가설 설정\n",
    "Ho: version(30/40)과 7일차 retention 여부는 서로 독립관계다.</br>\n",
    "H1: version(30/40)과 7일차 retention 여부는 서로 독립관계가 아니다(서로 종속관계다).</br>\n",
    "유의수준 : .05"
   ]
  },
  {
   "cell_type": "markdown",
   "id": "34960f00-55fd-4b15-9db3-96f7ec3bc0f4",
   "metadata": {},
   "source": [
    "### 2단계 - 분할표 작성\n",
    "여기도 표만 봐도 둘은 독립관계인 것 같습니다!"
   ]
  },
  {
   "cell_type": "code",
   "execution_count": 17,
   "id": "1fe48e21-b3fd-45f1-a476-0b427854c49f",
   "metadata": {},
   "outputs": [
    {
     "data": {
      "text/html": [
       "<div>\n",
       "<style scoped>\n",
       "    .dataframe tbody tr th:only-of-type {\n",
       "        vertical-align: middle;\n",
       "    }\n",
       "\n",
       "    .dataframe tbody tr th {\n",
       "        vertical-align: top;\n",
       "    }\n",
       "\n",
       "    .dataframe thead th {\n",
       "        text-align: right;\n",
       "    }\n",
       "</style>\n",
       "<table border=\"1\" class=\"dataframe\">\n",
       "  <thead>\n",
       "    <tr style=\"text-align: right;\">\n",
       "      <th>retention_7</th>\n",
       "      <th>False</th>\n",
       "      <th>True</th>\n",
       "    </tr>\n",
       "    <tr>\n",
       "      <th>version</th>\n",
       "      <th></th>\n",
       "      <th></th>\n",
       "    </tr>\n",
       "  </thead>\n",
       "  <tbody>\n",
       "    <tr>\n",
       "      <th>gate_30</th>\n",
       "      <td>9348</td>\n",
       "      <td>7307</td>\n",
       "    </tr>\n",
       "    <tr>\n",
       "      <th>gate_40</th>\n",
       "      <td>9469</td>\n",
       "      <td>7144</td>\n",
       "    </tr>\n",
       "  </tbody>\n",
       "</table>\n",
       "</div>"
      ],
      "text/plain": [
       "retention_7  False  True \n",
       "version                  \n",
       "gate_30       9348   7307\n",
       "gate_40       9469   7144"
      ]
     },
     "execution_count": 17,
     "metadata": {},
     "output_type": "execute_result"
    }
   ],
   "source": [
    "retention7_table = pd.crosstab(df[\"version\"], df[\"retention_7\"])\n",
    "retention7_table"
   ]
  },
  {
   "cell_type": "markdown",
   "id": "22eda401-6d6c-4acf-b9bc-a3f7a3b2fba1",
   "metadata": {},
   "source": [
    "### 3단계 - 카이 제곱 검정 시행"
   ]
  },
  {
   "cell_type": "code",
   "execution_count": 15,
   "id": "82b15bb5-6e41-4469-a68c-d802a56a0c94",
   "metadata": {},
   "outputs": [
    {
     "data": {
      "text/plain": [
       "Chi2ContingencyResult(statistic=2.528313646462112, pvalue=0.11181966223372168, dof=1, expected_freq=array([[9420.37799086, 7234.62200914],\n",
       "       [9396.62200914, 7216.37799086]]))"
      ]
     },
     "execution_count": 15,
     "metadata": {},
     "output_type": "execute_result"
    }
   ],
   "source": [
    "chi2_contingency(retention7_table)"
   ]
  },
  {
   "cell_type": "markdown",
   "id": "30f7cff0-fda5-42b2-9d63-1a6d56dbd8ee",
   "metadata": {},
   "source": [
    "p-value가 유의수준 .05보다 크기 때문에 영가설을 채택합니다. 즉, version(30/40)과 1일차 retention 여부는 서로 독립관입니다."
   ]
  },
  {
   "cell_type": "markdown",
   "id": "3b510580-fc02-4b15-b6da-3109154328c8",
   "metadata": {},
   "source": [
    "### 4단계 - 결론 기술\n",
    "version(30/40)과 1일차 retention 여부는 서로 독립관입니다."
   ]
  },
  {
   "cell_type": "markdown",
   "id": "bec40ea7-4821-44c8-a34e-198c667ef356",
   "metadata": {},
   "source": [
    "## 5. 플레이라운드가 30이 안 되는 플레이어들은 얼마나 체류했을까?"
   ]
  },
  {
   "cell_type": "code",
   "execution_count": 24,
   "id": "ce53bce7-aa23-4b6d-a83c-9bd2728a72d2",
   "metadata": {},
   "outputs": [
    {
     "data": {
      "text/html": [
       "<div>\n",
       "<style scoped>\n",
       "    .dataframe tbody tr th:only-of-type {\n",
       "        vertical-align: middle;\n",
       "    }\n",
       "\n",
       "    .dataframe tbody tr th {\n",
       "        vertical-align: top;\n",
       "    }\n",
       "\n",
       "    .dataframe thead th {\n",
       "        text-align: right;\n",
       "    }\n",
       "</style>\n",
       "<table border=\"1\" class=\"dataframe\">\n",
       "  <thead>\n",
       "    <tr style=\"text-align: right;\">\n",
       "      <th></th>\n",
       "      <th>userid</th>\n",
       "      <th>version</th>\n",
       "      <th>sum_gamerounds</th>\n",
       "      <th>retention_1</th>\n",
       "      <th>retention_7</th>\n",
       "    </tr>\n",
       "  </thead>\n",
       "  <tbody>\n",
       "    <tr>\n",
       "      <th>6</th>\n",
       "      <td>1066</td>\n",
       "      <td>gate_30</td>\n",
       "      <td>0</td>\n",
       "      <td>False</td>\n",
       "      <td>False</td>\n",
       "    </tr>\n",
       "    <tr>\n",
       "      <th>11</th>\n",
       "      <td>2101</td>\n",
       "      <td>gate_30</td>\n",
       "      <td>0</td>\n",
       "      <td>False</td>\n",
       "      <td>False</td>\n",
       "    </tr>\n",
       "    <tr>\n",
       "      <th>26</th>\n",
       "      <td>3095</td>\n",
       "      <td>gate_30</td>\n",
       "      <td>0</td>\n",
       "      <td>False</td>\n",
       "      <td>False</td>\n",
       "    </tr>\n",
       "    <tr>\n",
       "      <th>35</th>\n",
       "      <td>4076</td>\n",
       "      <td>gate_40</td>\n",
       "      <td>0</td>\n",
       "      <td>False</td>\n",
       "      <td>False</td>\n",
       "    </tr>\n",
       "    <tr>\n",
       "      <th>37</th>\n",
       "      <td>4176</td>\n",
       "      <td>gate_30</td>\n",
       "      <td>0</td>\n",
       "      <td>False</td>\n",
       "      <td>False</td>\n",
       "    </tr>\n",
       "    <tr>\n",
       "      <th>...</th>\n",
       "      <td>...</td>\n",
       "      <td>...</td>\n",
       "      <td>...</td>\n",
       "      <td>...</td>\n",
       "      <td>...</td>\n",
       "    </tr>\n",
       "    <tr>\n",
       "      <th>90067</th>\n",
       "      <td>9986185</td>\n",
       "      <td>gate_30</td>\n",
       "      <td>0</td>\n",
       "      <td>False</td>\n",
       "      <td>False</td>\n",
       "    </tr>\n",
       "    <tr>\n",
       "      <th>90093</th>\n",
       "      <td>9988600</td>\n",
       "      <td>gate_40</td>\n",
       "      <td>0</td>\n",
       "      <td>False</td>\n",
       "      <td>False</td>\n",
       "    </tr>\n",
       "    <tr>\n",
       "      <th>90116</th>\n",
       "      <td>9990773</td>\n",
       "      <td>gate_30</td>\n",
       "      <td>0</td>\n",
       "      <td>False</td>\n",
       "      <td>False</td>\n",
       "    </tr>\n",
       "    <tr>\n",
       "      <th>90147</th>\n",
       "      <td>9994604</td>\n",
       "      <td>gate_30</td>\n",
       "      <td>0</td>\n",
       "      <td>False</td>\n",
       "      <td>False</td>\n",
       "    </tr>\n",
       "    <tr>\n",
       "      <th>90176</th>\n",
       "      <td>9998285</td>\n",
       "      <td>gate_30</td>\n",
       "      <td>0</td>\n",
       "      <td>False</td>\n",
       "      <td>False</td>\n",
       "    </tr>\n",
       "  </tbody>\n",
       "</table>\n",
       "<p>3994 rows × 5 columns</p>\n",
       "</div>"
      ],
      "text/plain": [
       "        userid  version  sum_gamerounds  retention_1  retention_7\n",
       "6         1066  gate_30               0        False        False\n",
       "11        2101  gate_30               0        False        False\n",
       "26        3095  gate_30               0        False        False\n",
       "35        4076  gate_40               0        False        False\n",
       "37        4176  gate_30               0        False        False\n",
       "...        ...      ...             ...          ...          ...\n",
       "90067  9986185  gate_30               0        False        False\n",
       "90093  9988600  gate_40               0        False        False\n",
       "90116  9990773  gate_30               0        False        False\n",
       "90147  9994604  gate_30               0        False        False\n",
       "90176  9998285  gate_30               0        False        False\n",
       "\n",
       "[3994 rows x 5 columns]"
      ]
     },
     "execution_count": 24,
     "metadata": {},
     "output_type": "execute_result"
    }
   ],
   "source": [
    "# 4천명 가까이가 한 번도 플레이하지 않음\n",
    "df[df[\"sum_gamerounds\"] == 0]"
   ]
  },
  {
   "cell_type": "code",
   "execution_count": 46,
   "id": "35da1ed1-ed19-488f-aa43-8d05c7edd3b0",
   "metadata": {},
   "outputs": [
    {
     "data": {
      "image/png": "[encoded data removed]",
      "text/plain": [
       "<Figure size 1000x600 with 1 Axes>"
      ]
     },
     "metadata": {},
     "output_type": "display_data"
    }
   ],
   "source": [
    "import numpy as np\n",
    "import matplotlib.pyplot as plt\n",
    "\n",
    "df[\"sum_gamerounds\"].plot(\n",
    "    kind=\"hist\",\n",
    "    bins=np.arange(0, 100, 10)\n",
    ")\n",
    "\n",
    "ax = df[\"sum_gamerounds\"].plot(\n",
    "    kind=\"hist\",\n",
    "    bins=np.arange(0, 110, 10),\n",
    "    edgecolor='black',\n",
    "    figsize=(10, 6)\n",
    ")\n",
    "\n",
    "hist, bins = np.histogram(df[\"sum_gamerounds\"], bins=np.arange(0, 110, 10))\n",
    "\n",
    "for i in range(len(hist)):\n",
    "    ax.text(bins[i] + 5, hist[i] + 0.5, str(hist[i]), ha='center')\n",
    "\n",
    "plt.xticks(np.arange(0, 110, 10))\n",
    "plt.xlabel('Game Rounds')\n",
    "plt.ylabel('Num of Players')\n",
    "plt.title('Frequency Distribution of Game Rounds')\n",
    "plt.xticks(np.arange(0, 110, 10))\n",
    "plt.show()"
   ]
  },
  {
   "cell_type": "markdown",
   "id": "02977fdb-5e06-418a-ae8d-e004162393f1",
   "metadata": {},
   "source": [
    "##  결론"
   ]
  },
  {
   "cell_type": "markdown",
   "id": "9c3b5ab8-4398-460f-ab0a-95a801f0c72b",
   "metadata": {},
   "source": [
    "해당 데이터에서 GATE의 위치는 유저들의 retention에 영향을 미치지 않았으며, 초기이탈율을 줄이는 방안에 더 집중해야 할 것 같다."
   ]
  }
 ],
 "metadata": {
  "kernelspec": {
   "display_name": "Python 3 (ipykernel)",
   "language": "python",
   "name": "python3"
  },
  "language_info": {
   "codemirror_mode": {
    "name": "ipython",
    "version": 3
   },
   "file_extension": ".py",
   "mimetype": "text/x-python",
   "name": "python",
   "nbconvert_exporter": "python",
   "pygments_lexer": "ipython3",
   "version": "3.11.9"
  }
 },
 "nbformat": 4,
 "nbformat_minor": 5
}
